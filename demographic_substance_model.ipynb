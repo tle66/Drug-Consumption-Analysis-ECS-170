{
 "cells": [
  {
   "cell_type": "code",
   "execution_count": 9,
   "id": "4dc180da",
   "metadata": {},
   "outputs": [],
   "source": [
    "import numpy as np\n",
    "import pandas as pd\n",
    "import seaborn as sns\n",
    "import matplotlib.pyplot as plt\n",
    "from sklearn.neural_network import MLPClassifier\n",
    "from sklearn.model_selection import train_test_split\n",
    "from sklearn.metrics import mean_squared_error, accuracy_score, confusion_matrix, precision_score, recall_score"
   ]
  },
  {
   "cell_type": "code",
   "execution_count": 10,
   "id": "e4065958",
   "metadata": {},
   "outputs": [],
   "source": [
    "df = pd.read_csv(\"drug_consumption.csv\", \n",
    "                  names=[\"Age\", \"Gender\", \"Education\", \"Country\", \"Ethnicity\", \"Nscore\", \"Escore\", \"Oscore\", \"Ascore\", \"Cscore\", \"Impulsive\", \"SS\", \"Alcohol\", \"Amphet\", \"Amyl\", \"Benzos\", \"Caff\", \"Cannabis\", \"Choc\", \"Coke\", \"Crack\", \"Ecstasy\", \"Heroin\", \"Ketamine\", \"Legalh\", \"LSD\", \"Meth\", \"Mushrooms\", \"Nicotine\", \"Semer\", \"VSA\"])"
   ]
  },
  {
   "cell_type": "code",
   "execution_count": 11,
   "id": "f022582e",
   "metadata": {},
   "outputs": [],
   "source": [
    "arr = [\"Alcohol\", \"Amphet\", \"Amyl\", \"Benzos\", \"Caff\", \"Cannabis\", \"Choc\", \"Coke\", \"Crack\", \"Ecstasy\", \"Heroin\", \"Ketamine\", \"Legalh\", \"LSD\", \"Meth\", \"Mushrooms\", \"Nicotine\", \"Semer\", \"VSA\"]\n",
    "\n",
    "# remove CL and convert strings to ints\n",
    "# CL0   - Never used  : 0\n",
    "# CL3-6 - Have used   : 1\n",
    "for i in range(len(arr)):\n",
    "    df[arr[i]].replace({\"CL0\": \"0\", \"CL1\": \"1\", \"CL2\": \"1\", \"CL3\": \"1\", \"CL4\": \"1\", \"CL5\": \"1\", \"CL6\": \"1\"}, inplace=True)\n",
    "    df[arr[i]] = pd.to_numeric(df[arr[i]])"
   ]
  },
  {
   "cell_type": "code",
   "execution_count": 12,
   "id": "00c769c0",
   "metadata": {},
   "outputs": [
    {
     "data": {
      "text/html": [
       "<div>\n",
       "<style scoped>\n",
       "    .dataframe tbody tr th:only-of-type {\n",
       "        vertical-align: middle;\n",
       "    }\n",
       "\n",
       "    .dataframe tbody tr th {\n",
       "        vertical-align: top;\n",
       "    }\n",
       "\n",
       "    .dataframe thead th {\n",
       "        text-align: right;\n",
       "    }\n",
       "</style>\n",
       "<table border=\"1\" class=\"dataframe\">\n",
       "  <thead>\n",
       "    <tr style=\"text-align: right;\">\n",
       "      <th></th>\n",
       "      <th>Age</th>\n",
       "      <th>Gender</th>\n",
       "      <th>Education</th>\n",
       "      <th>Country</th>\n",
       "      <th>Ethnicity</th>\n",
       "      <th>Nscore</th>\n",
       "      <th>Escore</th>\n",
       "      <th>Oscore</th>\n",
       "      <th>Ascore</th>\n",
       "      <th>Cscore</th>\n",
       "      <th>...</th>\n",
       "      <th>Ecstasy</th>\n",
       "      <th>Heroin</th>\n",
       "      <th>Ketamine</th>\n",
       "      <th>Legalh</th>\n",
       "      <th>LSD</th>\n",
       "      <th>Meth</th>\n",
       "      <th>Mushrooms</th>\n",
       "      <th>Nicotine</th>\n",
       "      <th>Semer</th>\n",
       "      <th>VSA</th>\n",
       "    </tr>\n",
       "  </thead>\n",
       "  <tbody>\n",
       "    <tr>\n",
       "      <th>1</th>\n",
       "      <td>0.49788</td>\n",
       "      <td>0.48246</td>\n",
       "      <td>-0.05921</td>\n",
       "      <td>0.96082</td>\n",
       "      <td>0.12600</td>\n",
       "      <td>0.31287</td>\n",
       "      <td>-0.57545</td>\n",
       "      <td>-0.58331</td>\n",
       "      <td>-0.91699</td>\n",
       "      <td>-0.00665</td>\n",
       "      <td>...</td>\n",
       "      <td>0</td>\n",
       "      <td>0</td>\n",
       "      <td>0</td>\n",
       "      <td>0</td>\n",
       "      <td>0</td>\n",
       "      <td>0</td>\n",
       "      <td>0</td>\n",
       "      <td>1</td>\n",
       "      <td>0</td>\n",
       "      <td>0</td>\n",
       "    </tr>\n",
       "    <tr>\n",
       "      <th>2</th>\n",
       "      <td>-0.07854</td>\n",
       "      <td>-0.48246</td>\n",
       "      <td>1.98437</td>\n",
       "      <td>0.96082</td>\n",
       "      <td>-0.31685</td>\n",
       "      <td>-0.67825</td>\n",
       "      <td>1.93886</td>\n",
       "      <td>1.43533</td>\n",
       "      <td>0.76096</td>\n",
       "      <td>-0.14277</td>\n",
       "      <td>...</td>\n",
       "      <td>1</td>\n",
       "      <td>0</td>\n",
       "      <td>1</td>\n",
       "      <td>0</td>\n",
       "      <td>1</td>\n",
       "      <td>1</td>\n",
       "      <td>0</td>\n",
       "      <td>1</td>\n",
       "      <td>0</td>\n",
       "      <td>0</td>\n",
       "    </tr>\n",
       "    <tr>\n",
       "      <th>3</th>\n",
       "      <td>0.49788</td>\n",
       "      <td>-0.48246</td>\n",
       "      <td>-0.05921</td>\n",
       "      <td>0.96082</td>\n",
       "      <td>-0.31685</td>\n",
       "      <td>-0.46725</td>\n",
       "      <td>0.80523</td>\n",
       "      <td>-0.84732</td>\n",
       "      <td>-1.62090</td>\n",
       "      <td>-1.01450</td>\n",
       "      <td>...</td>\n",
       "      <td>0</td>\n",
       "      <td>0</td>\n",
       "      <td>0</td>\n",
       "      <td>0</td>\n",
       "      <td>0</td>\n",
       "      <td>0</td>\n",
       "      <td>1</td>\n",
       "      <td>0</td>\n",
       "      <td>0</td>\n",
       "      <td>0</td>\n",
       "    </tr>\n",
       "    <tr>\n",
       "      <th>4</th>\n",
       "      <td>-0.95197</td>\n",
       "      <td>0.48246</td>\n",
       "      <td>1.16365</td>\n",
       "      <td>0.96082</td>\n",
       "      <td>-0.31685</td>\n",
       "      <td>-0.14882</td>\n",
       "      <td>-0.80615</td>\n",
       "      <td>-0.01928</td>\n",
       "      <td>0.59042</td>\n",
       "      <td>0.58489</td>\n",
       "      <td>...</td>\n",
       "      <td>0</td>\n",
       "      <td>0</td>\n",
       "      <td>1</td>\n",
       "      <td>0</td>\n",
       "      <td>0</td>\n",
       "      <td>0</td>\n",
       "      <td>0</td>\n",
       "      <td>1</td>\n",
       "      <td>0</td>\n",
       "      <td>0</td>\n",
       "    </tr>\n",
       "    <tr>\n",
       "      <th>5</th>\n",
       "      <td>0.49788</td>\n",
       "      <td>0.48246</td>\n",
       "      <td>1.98437</td>\n",
       "      <td>0.96082</td>\n",
       "      <td>-0.31685</td>\n",
       "      <td>0.73545</td>\n",
       "      <td>-1.63340</td>\n",
       "      <td>-0.45174</td>\n",
       "      <td>-0.30172</td>\n",
       "      <td>1.30612</td>\n",
       "      <td>...</td>\n",
       "      <td>1</td>\n",
       "      <td>0</td>\n",
       "      <td>0</td>\n",
       "      <td>1</td>\n",
       "      <td>0</td>\n",
       "      <td>0</td>\n",
       "      <td>1</td>\n",
       "      <td>1</td>\n",
       "      <td>0</td>\n",
       "      <td>0</td>\n",
       "    </tr>\n",
       "    <tr>\n",
       "      <th>...</th>\n",
       "      <td>...</td>\n",
       "      <td>...</td>\n",
       "      <td>...</td>\n",
       "      <td>...</td>\n",
       "      <td>...</td>\n",
       "      <td>...</td>\n",
       "      <td>...</td>\n",
       "      <td>...</td>\n",
       "      <td>...</td>\n",
       "      <td>...</td>\n",
       "      <td>...</td>\n",
       "      <td>...</td>\n",
       "      <td>...</td>\n",
       "      <td>...</td>\n",
       "      <td>...</td>\n",
       "      <td>...</td>\n",
       "      <td>...</td>\n",
       "      <td>...</td>\n",
       "      <td>...</td>\n",
       "      <td>...</td>\n",
       "      <td>...</td>\n",
       "    </tr>\n",
       "    <tr>\n",
       "      <th>1884</th>\n",
       "      <td>-0.95197</td>\n",
       "      <td>0.48246</td>\n",
       "      <td>-0.61113</td>\n",
       "      <td>-0.57009</td>\n",
       "      <td>-0.31685</td>\n",
       "      <td>-1.19430</td>\n",
       "      <td>1.74091</td>\n",
       "      <td>1.88511</td>\n",
       "      <td>0.76096</td>\n",
       "      <td>-1.13788</td>\n",
       "      <td>...</td>\n",
       "      <td>0</td>\n",
       "      <td>0</td>\n",
       "      <td>0</td>\n",
       "      <td>1</td>\n",
       "      <td>1</td>\n",
       "      <td>0</td>\n",
       "      <td>0</td>\n",
       "      <td>0</td>\n",
       "      <td>0</td>\n",
       "      <td>1</td>\n",
       "    </tr>\n",
       "    <tr>\n",
       "      <th>1885</th>\n",
       "      <td>-0.95197</td>\n",
       "      <td>-0.48246</td>\n",
       "      <td>-0.61113</td>\n",
       "      <td>-0.57009</td>\n",
       "      <td>-0.31685</td>\n",
       "      <td>-0.24649</td>\n",
       "      <td>1.74091</td>\n",
       "      <td>0.58331</td>\n",
       "      <td>0.76096</td>\n",
       "      <td>-1.51840</td>\n",
       "      <td>...</td>\n",
       "      <td>1</td>\n",
       "      <td>0</td>\n",
       "      <td>0</td>\n",
       "      <td>1</td>\n",
       "      <td>1</td>\n",
       "      <td>1</td>\n",
       "      <td>1</td>\n",
       "      <td>1</td>\n",
       "      <td>0</td>\n",
       "      <td>0</td>\n",
       "    </tr>\n",
       "    <tr>\n",
       "      <th>1886</th>\n",
       "      <td>-0.07854</td>\n",
       "      <td>0.48246</td>\n",
       "      <td>0.45468</td>\n",
       "      <td>-0.57009</td>\n",
       "      <td>-0.31685</td>\n",
       "      <td>1.13281</td>\n",
       "      <td>-1.37639</td>\n",
       "      <td>-1.27553</td>\n",
       "      <td>-1.77200</td>\n",
       "      <td>-1.38502</td>\n",
       "      <td>...</td>\n",
       "      <td>1</td>\n",
       "      <td>0</td>\n",
       "      <td>1</td>\n",
       "      <td>0</td>\n",
       "      <td>1</td>\n",
       "      <td>0</td>\n",
       "      <td>1</td>\n",
       "      <td>1</td>\n",
       "      <td>0</td>\n",
       "      <td>0</td>\n",
       "    </tr>\n",
       "    <tr>\n",
       "      <th>1887</th>\n",
       "      <td>-0.95197</td>\n",
       "      <td>0.48246</td>\n",
       "      <td>-0.61113</td>\n",
       "      <td>-0.57009</td>\n",
       "      <td>-0.31685</td>\n",
       "      <td>0.91093</td>\n",
       "      <td>-1.92173</td>\n",
       "      <td>0.29338</td>\n",
       "      <td>-1.62090</td>\n",
       "      <td>-2.57309</td>\n",
       "      <td>...</td>\n",
       "      <td>1</td>\n",
       "      <td>0</td>\n",
       "      <td>0</td>\n",
       "      <td>1</td>\n",
       "      <td>1</td>\n",
       "      <td>0</td>\n",
       "      <td>1</td>\n",
       "      <td>1</td>\n",
       "      <td>0</td>\n",
       "      <td>0</td>\n",
       "    </tr>\n",
       "    <tr>\n",
       "      <th>1888</th>\n",
       "      <td>-0.95197</td>\n",
       "      <td>-0.48246</td>\n",
       "      <td>-0.61113</td>\n",
       "      <td>0.21128</td>\n",
       "      <td>-0.31685</td>\n",
       "      <td>-0.46725</td>\n",
       "      <td>2.12700</td>\n",
       "      <td>1.65653</td>\n",
       "      <td>1.11406</td>\n",
       "      <td>0.41594</td>\n",
       "      <td>...</td>\n",
       "      <td>1</td>\n",
       "      <td>0</td>\n",
       "      <td>0</td>\n",
       "      <td>1</td>\n",
       "      <td>1</td>\n",
       "      <td>0</td>\n",
       "      <td>1</td>\n",
       "      <td>1</td>\n",
       "      <td>0</td>\n",
       "      <td>1</td>\n",
       "    </tr>\n",
       "  </tbody>\n",
       "</table>\n",
       "<p>1885 rows × 31 columns</p>\n",
       "</div>"
      ],
      "text/plain": [
       "          Age   Gender  Education  Country  Ethnicity   Nscore   Escore  \\\n",
       "1     0.49788  0.48246   -0.05921  0.96082    0.12600  0.31287 -0.57545   \n",
       "2    -0.07854 -0.48246    1.98437  0.96082   -0.31685 -0.67825  1.93886   \n",
       "3     0.49788 -0.48246   -0.05921  0.96082   -0.31685 -0.46725  0.80523   \n",
       "4    -0.95197  0.48246    1.16365  0.96082   -0.31685 -0.14882 -0.80615   \n",
       "5     0.49788  0.48246    1.98437  0.96082   -0.31685  0.73545 -1.63340   \n",
       "...       ...      ...        ...      ...        ...      ...      ...   \n",
       "1884 -0.95197  0.48246   -0.61113 -0.57009   -0.31685 -1.19430  1.74091   \n",
       "1885 -0.95197 -0.48246   -0.61113 -0.57009   -0.31685 -0.24649  1.74091   \n",
       "1886 -0.07854  0.48246    0.45468 -0.57009   -0.31685  1.13281 -1.37639   \n",
       "1887 -0.95197  0.48246   -0.61113 -0.57009   -0.31685  0.91093 -1.92173   \n",
       "1888 -0.95197 -0.48246   -0.61113  0.21128   -0.31685 -0.46725  2.12700   \n",
       "\n",
       "       Oscore   Ascore   Cscore  ...  Ecstasy  Heroin  Ketamine  Legalh  LSD  \\\n",
       "1    -0.58331 -0.91699 -0.00665  ...        0       0         0       0    0   \n",
       "2     1.43533  0.76096 -0.14277  ...        1       0         1       0    1   \n",
       "3    -0.84732 -1.62090 -1.01450  ...        0       0         0       0    0   \n",
       "4    -0.01928  0.59042  0.58489  ...        0       0         1       0    0   \n",
       "5    -0.45174 -0.30172  1.30612  ...        1       0         0       1    0   \n",
       "...       ...      ...      ...  ...      ...     ...       ...     ...  ...   \n",
       "1884  1.88511  0.76096 -1.13788  ...        0       0         0       1    1   \n",
       "1885  0.58331  0.76096 -1.51840  ...        1       0         0       1    1   \n",
       "1886 -1.27553 -1.77200 -1.38502  ...        1       0         1       0    1   \n",
       "1887  0.29338 -1.62090 -2.57309  ...        1       0         0       1    1   \n",
       "1888  1.65653  1.11406  0.41594  ...        1       0         0       1    1   \n",
       "\n",
       "      Meth  Mushrooms  Nicotine  Semer  VSA  \n",
       "1        0          0         1      0    0  \n",
       "2        1          0         1      0    0  \n",
       "3        0          1         0      0    0  \n",
       "4        0          0         1      0    0  \n",
       "5        0          1         1      0    0  \n",
       "...    ...        ...       ...    ...  ...  \n",
       "1884     0          0         0      0    1  \n",
       "1885     1          1         1      0    0  \n",
       "1886     0          1         1      0    0  \n",
       "1887     0          1         1      0    0  \n",
       "1888     0          1         1      0    1  \n",
       "\n",
       "[1885 rows x 31 columns]"
      ]
     },
     "execution_count": 12,
     "metadata": {},
     "output_type": "execute_result"
    }
   ],
   "source": [
    "df"
   ]
  },
  {
   "cell_type": "markdown",
   "id": "48534dd9",
   "metadata": {},
   "source": [
    "### GRID SEARCH:"
   ]
  },
  {
   "cell_type": "code",
   "execution_count": 6,
   "id": "5f8c5925",
   "metadata": {},
   "outputs": [],
   "source": [
    "import warnings\n",
    "warnings.filterwarnings('ignore')\n",
    "warnings.simplefilter('ignore')"
   ]
  },
  {
   "cell_type": "code",
   "execution_count": 13,
   "id": "834133c3",
   "metadata": {},
   "outputs": [],
   "source": [
    "X = df[[\"Age\", \"Gender\", \"Education\", \"Country\", \"Ethnicity\", \"Nscore\", \"Escore\", \"Oscore\", \"Ascore\", \"Cscore\", \"Impulsive\", \"SS\"]]\n",
    "selected_substances = ['Alcohol', 'Amphet', 'Cannabis', 'Coke', 'Ecstasy', 'LSD', 'Meth', 'Mushrooms']"
   ]
  },
  {
   "cell_type": "code",
   "execution_count": 7,
   "id": "deb762cd",
   "metadata": {
    "scrolled": false
   },
   "outputs": [
    {
     "name": "stdout",
     "output_type": "stream",
     "text": [
      "Alcohol: \n",
      "Optimal Hyper-parameters:  {'activation': 'logistic', 'hidden_layer_sizes': (10, 5), 'learning_rate_init': 0.05, 'max_iter': 100}\n",
      "Optimal Accuracy:  0.9819634171451331 \n",
      "\n",
      "Amphet: \n",
      "Optimal Hyper-parameters:  {'activation': 'logistic', 'hidden_layer_sizes': (14, 8), 'learning_rate_init': 0.3, 'max_iter': 100}\n",
      "Optimal Accuracy:  0.6679071353106573 \n",
      "\n",
      "Cannabis: \n",
      "Optimal Hyper-parameters:  {'activation': 'logistic', 'hidden_layer_sizes': (5, 10, 5), 'learning_rate_init': 0.2, 'max_iter': 300}\n",
      "Optimal Accuracy:  0.8132799341117063 \n",
      "\n",
      "Coke: \n",
      "Optimal Hyper-parameters:  {'activation': 'logistic', 'hidden_layer_sizes': (14, 8), 'learning_rate_init': 0.2, 'max_iter': 100}\n",
      "Optimal Accuracy:  0.6816957459520218 \n",
      "\n",
      "Ecstasy: \n",
      "Optimal Hyper-parameters:  {'activation': 'logistic', 'hidden_layer_sizes': (5, 10, 5), 'learning_rate_init': 0.05, 'max_iter': 100}\n",
      "Optimal Accuracy:  0.7029254807448888 \n",
      "\n",
      "LSD: \n",
      "Optimal Hyper-parameters:  {'activation': 'logistic', 'hidden_layer_sizes': (14, 8), 'learning_rate_init': 0.05, 'max_iter': 300}\n",
      "Optimal Accuracy:  0.7353000246406017 \n",
      "\n",
      "Meth: \n",
      "Optimal Hyper-parameters:  {'activation': 'logistic', 'hidden_layer_sizes': (20, 10, 5), 'learning_rate_init': 0.3, 'max_iter': 100}\n",
      "Optimal Accuracy:  0.7840766018922632 \n",
      "\n",
      "Mushrooms: \n",
      "Optimal Hyper-parameters:  {'activation': 'logistic', 'hidden_layer_sizes': (14, 8), 'learning_rate_init': 0.3, 'max_iter': 100}\n",
      "Optimal Accuracy:  0.7199013363307106 \n",
      "\n"
     ]
    }
   ],
   "source": [
    "from sklearn.model_selection import GridSearchCV\n",
    "\n",
    "max_iterations = [100, 300, 600, 1000]\n",
    "hidden_layer_size = [(10, 5), (14, 8), (20, 10), (18, 12), (5, 10, 5), (20, 10, 5), (10, 15, 5, 5)]\n",
    "learning_rates = [0.05, 0.1, 0.2, 0.3]\n",
    "activation = [\"logistic\", \"relu\", \"tanh\"]\n",
    "\n",
    "param_grid = dict(learning_rate_init = learning_rates, activation = activation, hidden_layer_sizes = hidden_layer_size, max_iter = max_iterations)\n",
    "model_params = []\n",
    "\n",
    "for substance in selected_substances:\n",
    "    y = df[substance]    \n",
    "    \n",
    "    mlp = MLPClassifier(solver = 'sgd', \n",
    "                    random_state = 1, \n",
    "                    activation = 'logistic')\n",
    "    grid = GridSearchCV(estimator = mlp, param_grid = param_grid, n_jobs=-1, cv=3)\n",
    "    grid.fit(X, y)\n",
    "    model_params.append(grid.best_params_)\n",
    "    print(substance + ': ')\n",
    "    print('Optimal Hyper-parameters: ', grid.best_params_)\n",
    "    print('Optimal Accuracy: ', grid.best_score_, '\\n')"
   ]
  },
  {
   "cell_type": "markdown",
   "id": "d2ce64c9",
   "metadata": {},
   "source": [
    "### Generate Models From Optimal Parameters"
   ]
  },
  {
   "cell_type": "code",
   "execution_count": 14,
   "id": "4cb3e369",
   "metadata": {
    "scrolled": false
   },
   "outputs": [
    {
     "name": "stdout",
     "output_type": "stream",
     "text": [
      "{'activation': 'logistic', 'hidden_layer_sizes': (10, 5), 'learning_rate_init': 0.05, 'max_iter': 100}\n",
      "-- Alcohol --\n",
      "Accuracy: 0.9841269841269841\n",
      "Mean Square Error: 0.015873015873015872\n",
      "Precision: 0.9841269841269841\n",
      "Recall: 0.9841269841269841\n",
      "{'activation': 'logistic', 'hidden_layer_sizes': (14, 8), 'learning_rate_init': 0.3, 'max_iter': 100}\n",
      "-- Amphet --\n",
      "Accuracy: 0.671957671957672\n",
      "Mean Square Error: 0.328042328042328\n",
      "Precision: 0.671957671957672\n",
      "Recall: 0.671957671957672\n",
      "{'activation': 'logistic', 'hidden_layer_sizes': (5, 10, 5), 'learning_rate_init': 0.2, 'max_iter': 300}\n",
      "-- Cannabis --\n",
      "Accuracy: 0.7936507936507936\n",
      "Mean Square Error: 0.20634920634920634\n",
      "Precision: 0.7936507936507936\n",
      "Recall: 0.7936507936507936\n",
      "{'activation': 'logistic', 'hidden_layer_sizes': (14, 8), 'learning_rate_init': 0.2, 'max_iter': 100}\n",
      "-- Coke --\n",
      "Accuracy: 0.6825396825396826\n",
      "Mean Square Error: 0.31746031746031744\n",
      "Precision: 0.6825396825396826\n",
      "Recall: 0.6825396825396826\n",
      "{'activation': 'logistic', 'hidden_layer_sizes': (5, 10, 5), 'learning_rate_init': 0.05, 'max_iter': 100}\n",
      "-- Ecstasy --\n",
      "Accuracy: 0.7037037037037037\n",
      "Mean Square Error: 0.2962962962962963\n",
      "Precision: 0.7037037037037037\n",
      "Recall: 0.7037037037037037\n",
      "{'activation': 'logistic', 'hidden_layer_sizes': (14, 8), 'learning_rate_init': 0.05, 'max_iter': 300}\n",
      "-- LSD --\n",
      "Accuracy: 0.7142857142857143\n",
      "Mean Square Error: 0.2857142857142857\n",
      "Precision: 0.7142857142857143\n",
      "Recall: 0.7142857142857143\n",
      "{'activation': 'logistic', 'hidden_layer_sizes': (20, 10, 5), 'learning_rate_init': 0.3, 'max_iter': 100}\n",
      "-- Meth --\n",
      "Accuracy: 0.7936507936507936\n",
      "Mean Square Error: 0.20634920634920634\n",
      "Precision: 0.7936507936507936\n",
      "Recall: 0.7936507936507936\n",
      "{'activation': 'logistic', 'hidden_layer_sizes': (14, 8), 'learning_rate_init': 0.3, 'max_iter': 100}\n",
      "-- Mushrooms --\n",
      "Accuracy: 0.7301587301587301\n",
      "Mean Square Error: 0.2698412698412698\n",
      "Precision: 0.7301587301587301\n",
      "Recall: 0.7301587301587301\n"
     ]
    }
   ],
   "source": [
    "from joblib import dump\n",
    "\n",
    "conf_matrices = []  # List of of confusion matrices, one for each substance\n",
    "models = []\n",
    "x = 1\n",
    "model_params = [{'activation': 'logistic', 'hidden_layer_sizes':(10,5), 'learning_rate_init':0.05, 'max_iter': 100},\n",
    "               {'activation': 'logistic', 'hidden_layer_sizes':(14,8), 'learning_rate_init':0.3, 'max_iter': 100},\n",
    "               {'activation': 'logistic', 'hidden_layer_sizes':(5,10,5), 'learning_rate_init':0.2, 'max_iter': 300},\n",
    "               {'activation': 'logistic', 'hidden_layer_sizes':(14,8), 'learning_rate_init':0.2, 'max_iter': 100},\n",
    "               {'activation': 'logistic', 'hidden_layer_sizes':(5,10,5), 'learning_rate_init':0.05, 'max_iter': 100},\n",
    "               {'activation': 'logistic', 'hidden_layer_sizes':(14,8), 'learning_rate_init':0.05, 'max_iter': 300},\n",
    "               {'activation': 'logistic', 'hidden_layer_sizes':(20,10,5), 'learning_rate_init':0.3, 'max_iter': 100},\n",
    "               {'activation': 'logistic', 'hidden_layer_sizes':(14,8), 'learning_rate_init':0.3, 'max_iter': 100}]\n",
    "\n",
    "for substance, params in zip(selected_substances, model_params):\n",
    "    print(params)\n",
    "    y = df[substance]\n",
    "    X_train, X_test, y_train, y_test = train_test_split(X, y, test_size=0.1)\n",
    "    \n",
    "    mlp = MLPClassifier(solver = 'sgd', \n",
    "                    random_state = 1, \n",
    "                    activation = 'logistic', \n",
    "                    learning_rate_init = params['learning_rate_init'], \n",
    "                    hidden_layer_sizes = params['hidden_layer_sizes'], \n",
    "                    max_iter = params['max_iter'])\n",
    "    \n",
    "    mlp.fit(X_train, y_train)\n",
    "    models.append(mlp)\n",
    "    y_pred = mlp.predict(X_test)\n",
    "    \n",
    "    #exports the model to be used for the UI\n",
    "    a = \"./demographicModels/demographicModel\" + str(x) + \".joblib\"\n",
    "    dump(mlp, a)\n",
    "    x += 1\n",
    "    \n",
    "    print(\"--\", substance, \"--\")\n",
    "    print(\"Accuracy:\", accuracy_score(y_test, y_pred))\n",
    "    print(\"Mean Square Error:\", mean_squared_error(y_test, y_pred))\n",
    "    print(\"Precision:\", precision_score(y_test, y_pred, average='micro'))\n",
    "    print(\"Recall:\", recall_score(y_test, y_pred, average='micro'))\n",
    "    conf_matrices.append(confusion_matrix(y_test, y_pred))"
   ]
  },
  {
   "cell_type": "markdown",
   "id": "423e9ede",
   "metadata": {},
   "source": [
    "### Generate Confusion Matrices"
   ]
  },
  {
   "cell_type": "code",
   "execution_count": 9,
   "id": "a2a64402",
   "metadata": {
    "scrolled": false
   },
   "outputs": [
    {
     "data": {
      "image/png": "[encoded data removed]",
      "text/plain": [
       "<Figure size 576x576 with 2 Axes>"
      ]
     },
     "metadata": {
      "needs_background": "light"
     },
     "output_type": "display_data"
    },
    {
     "data": {
      "image/png": "[encoded data removed]",
      "text/plain": [
       "<Figure size 576x576 with 2 Axes>"
      ]
     },
     "metadata": {
      "needs_background": "light"
     },
     "output_type": "display_data"
    },
    {
     "data": {
      "image/png": "[encoded data removed]",
      "text/plain": [
       "<Figure size 576x576 with 2 Axes>"
      ]
     },
     "metadata": {
      "needs_background": "light"
     },
     "output_type": "display_data"
    },
    {
     "data": {
      "image/png": "[encoded data removed]",
      "text/plain": [
       "<Figure size 576x576 with 2 Axes>"
      ]
     },
     "metadata": {
      "needs_background": "light"
     },
     "output_type": "display_data"
    },
    {
     "data": {
      "image/png": "[encoded data removed]",
      "text/plain": [
       "<Figure size 576x576 with 2 Axes>"
      ]
     },
     "metadata": {
      "needs_background": "light"
     },
     "output_type": "display_data"
    },
    {
     "data": {
      "image/png": "[encoded data removed]",
      "text/plain": [
       "<Figure size 576x576 with 2 Axes>"
      ]
     },
     "metadata": {
      "needs_background": "light"
     },
     "output_type": "display_data"
    },
    {
     "data": {
      "image/png": "[encoded data removed]",
      "text/plain": [
       "<Figure size 576x576 with 2 Axes>"
      ]
     },
     "metadata": {
      "needs_background": "light"
     },
     "output_type": "display_data"
    },
    {
     "data": {
      "image/png": "[encoded data removed]",
      "text/plain": [
       "<Figure size 576x576 with 2 Axes>"
      ]
     },
     "metadata": {
      "needs_background": "light"
     },
     "output_type": "display_data"
    }
   ],
   "source": [
    "for i, m in enumerate(conf_matrices):\n",
    "    fig, ax = plt.subplots(figsize=(8,8))\n",
    "    fig = sns.heatmap(m, annot=True, cmap=\"Blues\", fmt='g', ax=ax)\n",
    "    fig.set_title(selected_substances[i])\n",
    "    fig.set_ylabel(\"True Label\")\n",
    "    fig.set_yticklabels([\"0\", \"1\"])\n",
    "    fig.set_xlabel(\"Pred Label\")\n",
    "    fig.set_xticklabels([\"0\", \"1\"])"
   ]
  },
  {
   "cell_type": "code",
   "execution_count": null,
   "id": "c5406c71",
   "metadata": {
    "scrolled": true
   },
   "outputs": [],
   "source": []
  }
 ],
 "metadata": {
  "kernelspec": {
   "display_name": "Python 3 (ipykernel)",
   "language": "python",
   "name": "python3"
  },
  "language_info": {
   "codemirror_mode": {
    "name": "ipython",
    "version": 3
   },
   "file_extension": ".py",
   "mimetype": "text/x-python",
   "name": "python",
   "nbconvert_exporter": "python",
   "pygments_lexer": "ipython3",
   "version": "3.9.3"
  }
 },
 "nbformat": 4,
 "nbformat_minor": 5
}
